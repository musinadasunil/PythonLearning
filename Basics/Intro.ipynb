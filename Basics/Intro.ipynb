{
 "cells": [
  {
   "cell_type": "markdown",
   "id": "825dcc95-6263-421d-964d-930b0ec99d35",
   "metadata": {},
   "source": [
    "#Introduction"
   ]
  },
  {
   "cell_type": "code",
   "execution_count": null,
   "id": "51ba971d-7ad5-4c8a-8472-369d8d3716a5",
   "metadata": {},
   "outputs": [],
   "source": []
  }
 ],
 "metadata": {
  "kernelspec": {
   "display_name": "Python 3 (ipykernel)",
   "language": "python",
   "name": "python3"
  },
  "language_info": {
   "codemirror_mode": {
    "name": "ipython",
    "version": 3
   },
   "file_extension": ".py",
   "mimetype": "text/x-python",
   "name": "python",
   "nbconvert_exporter": "python",
   "pygments_lexer": "ipython3",
   "version": "3.12.1"
  }
 },
 "nbformat": 4,
 "nbformat_minor": 5
}
