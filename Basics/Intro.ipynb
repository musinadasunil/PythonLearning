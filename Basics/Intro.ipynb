{
 "cells": [
  {
   "cell_type": "markdown",
   "id": "825dcc95-6263-421d-964d-930b0ec99d35",
   "metadata": {},
   "source": [
    "#Introduction\n",
    "Introduction to declaration of various data types"
   ]
  },
  {
   "cell_type": "markdown",
   "id": "e3e3cfd7-2119-4cdf-a357-82622b521c68",
   "metadata": {},
   "source": [
    "## Numbers"
   ]
  },
  {
   "cell_type": "code",
   "execution_count": 1,
   "id": "64fca49e-51ac-4e3d-9cbe-b4fc86b888c1",
   "metadata": {},
   "outputs": [
    {
     "name": "stdout",
     "output_type": "stream",
     "text": [
      "53\n"
     ]
    }
   ],
   "source": [
    "age=53\n",
    "print(age)"
   ]
  },
  {
   "cell_type": "markdown",
   "id": "58b0ac9e-cbda-4efe-b6ba-a4d9d9aad755",
   "metadata": {},
   "source": [
    "###Multi Declaration\n",
    "\n"
   ]
  },
  {
   "cell_type": "code",
   "execution_count": 3,
   "id": "12df2178-3c31-42e7-87a2-1ef67d90d617",
   "metadata": {},
   "outputs": [
    {
     "name": "stdout",
     "output_type": "stream",
     "text": [
      "1\n",
      "5\n"
     ]
    }
   ],
   "source": [
    "a,b=1,5\n",
    "print(a)\n",
    "print(b)"
   ]
  },
  {
   "cell_type": "markdown",
   "id": "56ff5852-1ace-4563-871d-08cec62559bf",
   "metadata": {},
   "source": [
    "### Identify Data types"
   ]
  },
  {
   "cell_type": "code",
   "execution_count": 6,
   "id": "9492d045-955c-485b-b5ea-96120f283d41",
   "metadata": {},
   "outputs": [
    {
     "name": "stdout",
     "output_type": "stream",
     "text": [
      "<class 'int'>\n"
     ]
    }
   ],
   "source": [
    "print(type(a))"
   ]
  },
  {
   "cell_type": "markdown",
   "id": "e3aea052-ddea-49fc-af6c-689e7dfb51b6",
   "metadata": {},
   "source": [
    "## Strings\n"
   ]
  },
  {
   "cell_type": "code",
   "execution_count": 12,
   "id": "5adf5e6a-bf99-480c-a903-0d34c7e50785",
   "metadata": {},
   "outputs": [
    {
     "name": "stdout",
     "output_type": "stream",
     "text": [
      "Sectum Sempra\n"
     ]
    }
   ],
   "source": [
    "str=\"Sectum Sempra\"\n",
    "print(str)"
   ]
  },
  {
   "cell_type": "markdown",
   "id": "8b6da1f8-80d9-4a7d-9d19-ad8c774e1355",
   "metadata": {},
   "source": [
    "### String Manipulation"
   ]
  },
  {
   "cell_type": "markdown",
   "id": "cfadfe68-1ed7-42ef-b626-b1b39076ef57",
   "metadata": {},
   "source": [
    "1. Character Extraction"
   ]
  },
  {
   "cell_type": "code",
   "execution_count": 13,
   "id": "3c292803-c429-4a73-86b2-4c8062a06d6e",
   "metadata": {},
   "outputs": [
    {
     "name": "stdout",
     "output_type": "stream",
     "text": [
      "c\n"
     ]
    }
   ],
   "source": [
    "print(str[2])"
   ]
  },
  {
   "cell_type": "markdown",
   "id": "042ccbad-5d59-4178-9d63-f8330040e070",
   "metadata": {},
   "source": [
    "2. Sub string"
   ]
  },
  {
   "cell_type": "code",
   "execution_count": 14,
   "id": "2e4d5fa6-585a-4c25-93bb-b8f63bf2637d",
   "metadata": {},
   "outputs": [
    {
     "name": "stdout",
     "output_type": "stream",
     "text": [
      "ctu\n"
     ]
    }
   ],
   "source": [
    "print(str[2:5])"
   ]
  },
  {
   "cell_type": "markdown",
   "id": "8bbb48e3-e290-4c13-a7b5-72f1867be514",
   "metadata": {},
   "source": [
    "3. Substring starting from a certain character"
   ]
  },
  {
   "cell_type": "code",
   "execution_count": 15,
   "id": "f06b9df2-9215-4a6e-bc56-d575b980b4d5",
   "metadata": {},
   "outputs": [
    {
     "name": "stdout",
     "output_type": "stream",
     "text": [
      "tum Sempra\n"
     ]
    }
   ],
   "source": [
    "print(str[3:])"
   ]
  },
  {
   "cell_type": "markdown",
   "id": "bad4563b-74e5-44e1-8155-10db78c19a09",
   "metadata": {},
   "source": [
    "### Multi declaration with different Data types"
   ]
  },
  {
   "cell_type": "code",
   "execution_count": 4,
   "id": "a9d7975f-e1cc-47d2-b390-d57cad60a275",
   "metadata": {},
   "outputs": [
    {
     "name": "stdout",
     "output_type": "stream",
     "text": [
      "1\n",
      "5\n",
      "Red\n"
     ]
    }
   ],
   "source": [
    "a,b,selected_color=1,5,\"Red\"\n",
    "print(a)\n",
    "print(b)\n",
    "print(selected_color)"
   ]
  },
  {
   "cell_type": "markdown",
   "id": "641b62d8-8c2f-4df6-b48b-0605d9e4b335",
   "metadata": {},
   "source": [
    "##Float"
   ]
  },
  {
   "cell_type": "code",
   "execution_count": 9,
   "id": "3d6774c3-015f-4581-8b85-e288ccc25da0",
   "metadata": {},
   "outputs": [
    {
     "name": "stdout",
     "output_type": "stream",
     "text": [
      "12.34\n"
     ]
    }
   ],
   "source": [
    "floating_a=12.34\n",
    "print(floating_a)"
   ]
  },
  {
   "cell_type": "markdown",
   "id": "a652f0b0-677c-48f2-9ea1-ff5f6abd43b5",
   "metadata": {},
   "source": [
    "##Complex"
   ]
  },
  {
   "cell_type": "code",
   "execution_count": 10,
   "id": "b8cdb41c-07fa-47d7-b239-5f27c5f3887c",
   "metadata": {},
   "outputs": [
    {
     "name": "stdout",
     "output_type": "stream",
     "text": [
      "(10+4j)\n"
     ]
    }
   ],
   "source": [
    "complex_number=10+4j\n",
    "print(complex_number)"
   ]
  },
  {
   "cell_type": "markdown",
   "id": "0ff686b6-b0b1-49cf-b5ea-23149756ed9c",
   "metadata": {},
   "source": [
    "###Data type query\n"
   ]
  },
  {
   "cell_type": "code",
   "execution_count": 11,
   "id": "f01c6102-bd14-4fdf-b228-7c193c363545",
   "metadata": {},
   "outputs": [
    {
     "name": "stdout",
     "output_type": "stream",
     "text": [
      "<class 'complex'>\n"
     ]
    }
   ],
   "source": [
    "print(type(complex_number))"
   ]
  },
  {
   "cell_type": "code",
   "execution_count": null,
   "id": "65488702-e2df-4505-89c6-577018853a59",
   "metadata": {},
   "outputs": [],
   "source": []
  }
 ],
 "metadata": {
  "kernelspec": {
   "display_name": "Python 3 (ipykernel)",
   "language": "python",
   "name": "python3"
  },
  "language_info": {
   "codemirror_mode": {
    "name": "ipython",
    "version": 3
   },
   "file_extension": ".py",
   "mimetype": "text/x-python",
   "name": "python",
   "nbconvert_exporter": "python",
   "pygments_lexer": "ipython3",
   "version": "3.12.1"
  }
 },
 "nbformat": 4,
 "nbformat_minor": 5
}
